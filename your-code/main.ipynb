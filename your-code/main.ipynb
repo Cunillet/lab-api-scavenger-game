{
 "cells": [
  {
   "cell_type": "markdown",
   "metadata": {},
   "source": [
    "# API Scavenger Game\n",
    "\n",
    "## Challenge 1: Fork Languages\n",
    "\n",
    "You will find out how many programming languages are used among all the forks created from the main lab repo of your bootcamp."
   ]
  },
  {
   "cell_type": "code",
   "execution_count": 12,
   "metadata": {},
   "outputs": [],
   "source": [
    "# import libraries here\n",
    "import requests\n",
    "import pandas as pd"
   ]
  },
  {
   "cell_type": "markdown",
   "metadata": {},
   "source": [
    "Assuming the main lab repo is ironhack-datalabs/madrid-oct-2018, you will:\n",
    "\n",
    "#### 1. Obtain the full list of forks created from the main lab repo via Github API."
   ]
  },
  {
   "cell_type": "markdown",
   "metadata": {},
   "source": [
    "To list forks, we can use the GET method. As explained in the GitHub API documentation, we need to make the request to: GET /repos/:owner/:repo/forks."
   ]
  },
  {
   "cell_type": "code",
   "execution_count": 13,
   "metadata": {},
   "outputs": [],
   "source": [
    "# your code here\n",
    "with open('../token/token.txt') as f:\n",
    "    token = 'token ' + f.readline()\n",
    "base_url = 'https://api.github.com/'\n",
    "cunillet_repos = 'users/Cunillet/repos'\n",
    "ih_dl_repo = 'repos/ironhack-datalabs/mad-oct-2018'\n",
    "forks = '/forks'\n",
    "commits = '/commits'\n",
    "response = requests.get(base_url + ih_dl_repo + forks, headers={'Authorization':token})\n",
    "if response.status_code == 200:\n",
    "    result = response.json()"
   ]
  },
  {
   "cell_type": "markdown",
   "metadata": {},
   "source": [
    "#### 2. Loop the JSON response to find out the language attribute of each fork. Use an array to store the language attributes of each fork.\n",
    "Hint: Each language should appear only once in your array.\n",
    "Print the language array. It should be something like: [\"Python\", \"Jupyter Notebook\", \"HTML\"]"
   ]
  },
  {
   "cell_type": "code",
   "execution_count": 14,
   "metadata": {},
   "outputs": [
    {
     "data": {
      "text/plain": "{'Jupyter Notebook': 22617301,\n 'HTML': 6976424,\n 'Python': 308847,\n 'Shell': 1051}"
     },
     "execution_count": 14,
     "metadata": {},
     "output_type": "execute_result"
    }
   ],
   "source": [
    "# your code here\n",
    "df = pd.DataFrame(result)\n",
    "lang_urls = df['languages_url']\n",
    "languages = {}\n",
    "for lang_url in lang_urls:\n",
    "    lan_resp = requests.get(lang_url, headers={'Authorization':token})\n",
    "    if lan_resp.status_code == 200:\n",
    "        lan_res = lan_resp.json()\n",
    "        for k,v in lan_res.items():\n",
    "            if k in languages:\n",
    "                languages[k] = languages[k] + v\n",
    "            else:\n",
    "                languages[k] = v\n",
    "languages"
   ]
  },
  {
   "cell_type": "markdown",
   "metadata": {},
   "source": [
    "## Challenge 2: Count Commits\n",
    "Count how many commits were made in the month of october of 2018.\n",
    "#### 1. Obtain all the commits made in October 2018 via API, which is a JSON array that contains multiple commit objects."
   ]
  },
  {
   "cell_type": "code",
   "execution_count": 15,
   "metadata": {},
   "outputs": [
    {
     "data": {
      "text/plain": "[0     {'author': {'name': 'Gobinde43', 'email': 'bel...\n 1     {'author': {'name': 'Gobinde43', 'email': 'bel...\n 2     {'author': {'name': 'Gobinde43', 'email': 'bel...\n 3     {'author': {'name': 'Zhou Zhou', 'email': 'zho...\n 4     {'author': {'name': 'Zhou Zhou', 'email': 'zho...\n 5     {'author': {'name': 'Zhou Zhou', 'email': 'zho...\n 6     {'author': {'name': 'Zhou Zhou', 'email': 'zho...\n 7     {'author': {'name': 'Zhou Zhou', 'email': 'zho...\n 8     {'author': {'name': 'Zhou Zhou', 'email': 'zho...\n 9     {'author': {'name': 'Tony Ojeda', 'email': 'to...\n 10    {'author': {'name': 'Tony Ojeda', 'email': 'to...\n 11    {'author': {'name': 'Gobinde43', 'email': 'bel...\n 12    {'author': {'name': 'Tony Ojeda', 'email': 'to...\n 13    {'author': {'name': 'Tony Ojeda', 'email': 'to...\n 14    {'author': {'name': 'Tony Ojeda', 'email': 'to...\n 15    {'author': {'name': 'Tony Ojeda', 'email': 'to...\n 16    {'author': {'name': 'Zhou Zhou', 'email': 'zho...\n 17    {'author': {'name': 'Zhou Zhou', 'email': 'zho...\n 18    {'author': {'name': 'Zhou Zhou', 'email': 'zho...\n 19    {'author': {'name': 'Zhou Zhou', 'email': 'zho...\n 20    {'author': {'name': 'Zhou Zhou', 'email': 'zho...\n 21    {'author': {'name': 'Tony Ojeda', 'email': 'to...\n 22    {'author': {'name': 'Tony Ojeda', 'email': 'to...\n 23    {'author': {'name': 'Zhou Zhou', 'email': 'zho...\n 24    {'author': {'name': 'Gobinde43', 'email': 'bel...\n 25    {'author': {'name': 'Zhou Zhou', 'email': 'zho...\n 26    {'author': {'name': 'Zhou Zhou', 'email': 'zho...\n 27    {'author': {'name': 'Zhou Zhou', 'email': 'zho...\n 28    {'author': {'name': 'Zhou Zhou', 'email': 'zho...\n 29    {'author': {'name': 'Zhou Zhou', 'email': 'zho...\n 30    {'author': {'name': 'Gobinde43', 'email': 'bel...\n 31    {'author': {'name': 'Gobinde43', 'email': 'bel...\n 32    {'author': {'name': 'Gobinde43', 'email': 'bel...\n 33    {'author': {'name': 'Zhou Zhou', 'email': 'zho...\n 34    {'author': {'name': 'Gobinde43', 'email': 'bel...\n 35    {'author': {'name': 'Gobinde43', 'email': 'bel...\n 36    {'author': {'name': 'Gobinde43', 'email': 'bel...\n 37    {'author': {'name': 'Gobinde43', 'email': 'bel...\n 38    {'author': {'name': 'Zhou Zhou', 'email': 'zho...\n 39    {'author': {'name': 'Zhou Zhou', 'email': 'zho...\n 40    {'author': {'name': 'Zhou Zhou', 'email': 'zho...\n 41    {'author': {'name': 'Zhou Zhou', 'email': 'zho...\n 42    {'author': {'name': 'Zhou Zhou', 'email': 'zho...\n 43    {'author': {'name': 'Zhou Zhou', 'email': 'zho...\n 44    {'author': {'name': 'Zhou Zhou', 'email': 'zho...\n 45    {'author': {'name': 'Zhou Zhou', 'email': 'zho...\n 46    {'author': {'name': 'Zhou Zhou', 'email': 'zho...\n 47    {'author': {'name': 'Zhou Zhou', 'email': 'zho...\n 48    {'author': {'name': 'Zhou Zhou', 'email': 'zho...\n 49    {'author': {'name': 'Zhou Zhou', 'email': 'zho...\n 50    {'author': {'name': 'Tony Ojeda', 'email': 'to...\n 51    {'author': {'name': 'Zhou Zhou', 'email': 'zho...\n 52    {'author': {'name': 'Zhou Zhou', 'email': 'zho...\n 53    {'author': {'name': 'Tony Ojeda', 'email': 'to...\n 54    {'author': {'name': 'Tony Ojeda', 'email': 'to...\n 55    {'author': {'name': 'Zhou Zhou', 'email': 'zho...\n 56    {'author': {'name': 'Zhou Zhou', 'email': 'zho...\n 57    {'author': {'name': 'Tony Ojeda', 'email': 'to...\n 58    {'author': {'name': 'Tony Ojeda', 'email': 'to...\n Name: commit, dtype: object]"
     },
     "execution_count": 15,
     "metadata": {},
     "output_type": "execute_result"
    }
   ],
   "source": [
    "# your code here\n",
    "page = 1\n",
    "next_page = True\n",
    "commit_list = []\n",
    "while next_page:\n",
    "    parameters = {\n",
    "        'since': '2018-10-01',\n",
    "        'until': '2018-10-31',\n",
    "        'per_page': '100',\n",
    "        'page': page\n",
    "    }\n",
    "    response = requests.get(base_url + ih_dl_repo + commits, params=parameters, headers={'Authorization':token})\n",
    "    df = pd.DataFrame(response.json())\n",
    "    if 'commit' in df:\n",
    "        commit_list.append(df.commit)\n",
    "        page = page + 1\n",
    "    else:\n",
    "        next_page = False\n",
    "commit_list"
   ]
  },
  {
   "cell_type": "code",
   "execution_count": 16,
   "metadata": {},
   "outputs": [
    {
     "data": {
      "text/plain": "[{'name': 'Gobinde43',\n  'email': 'belenlinacero@gmail.com',\n  'date': '2018-10-30T22:51:52Z'},\n {'name': 'Gobinde43',\n  'email': 'belenlinacero@gmail.com',\n  'date': '2018-10-30T22:45:48Z'},\n {'name': 'Gobinde43',\n  'email': 'belenlinacero@gmail.com',\n  'date': '2018-10-30T22:25:52Z'},\n {'name': 'Zhou Zhou',\n  'email': 'zhou.eye8@gmail.com',\n  'date': '2018-10-30T05:06:04Z'},\n {'name': 'Zhou Zhou',\n  'email': 'zhou.eye8@gmail.com',\n  'date': '2018-10-30T04:54:28Z'},\n {'name': 'Zhou Zhou',\n  'email': 'zhou.eye8@gmail.com',\n  'date': '2018-10-30T02:19:11Z'},\n {'name': 'Zhou Zhou',\n  'email': 'zhou.eye8@gmail.com',\n  'date': '2018-10-30T02:15:53Z'},\n {'name': 'Zhou Zhou',\n  'email': 'zhou.eye8@gmail.com',\n  'date': '2018-10-30T02:15:49Z'},\n {'name': 'Zhou Zhou',\n  'email': 'zhou.eye8@gmail.com',\n  'date': '2018-10-30T02:15:02Z'},\n {'name': 'Tony Ojeda',\n  'email': 'tojeda@districtdatalabs.com',\n  'date': '2018-10-29T21:57:34Z'},\n {'name': 'Tony Ojeda',\n  'email': 'tojeda@districtdatalabs.com',\n  'date': '2018-10-29T18:54:36Z'},\n {'name': 'Gobinde43',\n  'email': 'belenlinacero@gmail.com',\n  'date': '2018-10-28T17:10:38Z'},\n {'name': 'Tony Ojeda',\n  'email': 'tojeda@districtdatalabs.com',\n  'date': '2018-10-26T23:10:01Z'},\n {'name': 'Tony Ojeda',\n  'email': 'tojeda@districtdatalabs.com',\n  'date': '2018-10-26T17:26:31Z'},\n {'name': 'Tony Ojeda',\n  'email': 'tojeda@districtdatalabs.com',\n  'date': '2018-10-26T17:25:54Z'},\n {'name': 'Tony Ojeda',\n  'email': 'tojeda@districtdatalabs.com',\n  'date': '2018-10-26T17:25:51Z'},\n {'name': 'Zhou Zhou',\n  'email': 'zhou.eye8@gmail.com',\n  'date': '2018-10-26T02:35:09Z'},\n {'name': 'Zhou Zhou',\n  'email': 'zhou.eye8@gmail.com',\n  'date': '2018-10-26T02:34:27Z'},\n {'name': 'Zhou Zhou',\n  'email': 'zhou.eye8@gmail.com',\n  'date': '2018-10-26T02:34:05Z'},\n {'name': 'Zhou Zhou',\n  'email': 'zhou.eye8@gmail.com',\n  'date': '2018-10-26T02:18:59Z'},\n {'name': 'Zhou Zhou',\n  'email': 'zhou.eye8@gmail.com',\n  'date': '2018-10-26T02:16:15Z'},\n {'name': 'Tony Ojeda',\n  'email': 'tojeda@districtdatalabs.com',\n  'date': '2018-10-25T17:22:15Z'},\n {'name': 'Tony Ojeda',\n  'email': 'tojeda@districtdatalabs.com',\n  'date': '2018-10-25T14:40:08Z'},\n {'name': 'Zhou Zhou',\n  'email': 'zhou.eye8@gmail.com',\n  'date': '2018-10-25T12:41:29Z'},\n {'name': 'Gobinde43',\n  'email': 'belenlinacero@gmail.com',\n  'date': '2018-10-25T07:24:29Z'},\n {'name': 'Zhou Zhou',\n  'email': 'zhou.eye8@gmail.com',\n  'date': '2018-10-25T04:09:51Z'},\n {'name': 'GitHub',\n  'email': 'noreply@github.com',\n  'date': '2018-10-25T04:09:19Z'},\n {'name': 'Zhou Zhou',\n  'email': 'zhou.eye8@gmail.com',\n  'date': '2018-10-25T03:45:21Z'},\n {'name': 'Zhou Zhou',\n  'email': 'zhou.eye8@gmail.com',\n  'date': '2018-10-25T03:35:07Z'},\n {'name': 'Zhou Zhou',\n  'email': 'zhou.eye8@gmail.com',\n  'date': '2018-10-25T03:34:44Z'},\n {'name': 'Gobinde43',\n  'email': 'belenlinacero@gmail.com',\n  'date': '2018-10-25T01:09:25Z'},\n {'name': 'Gobinde43',\n  'email': 'belenlinacero@gmail.com',\n  'date': '2018-10-25T00:52:23Z'},\n {'name': 'Gobinde43',\n  'email': 'belenlinacero@gmail.com',\n  'date': '2018-10-25T00:48:50Z'},\n {'name': 'GitHub',\n  'email': 'noreply@github.com',\n  'date': '2018-10-24T01:34:00Z'},\n {'name': 'Gobinde43',\n  'email': 'belenlinacero@gmail.com',\n  'date': '2018-10-23T14:18:12Z'},\n {'name': 'Gobinde43',\n  'email': 'belenlinacero@gmail.com',\n  'date': '2018-10-23T13:47:46Z'},\n {'name': 'Gobinde43',\n  'email': 'belenlinacero@gmail.com',\n  'date': '2018-10-23T13:17:02Z'},\n {'name': 'Gobinde43',\n  'email': 'belenlinacero@gmail.com',\n  'date': '2018-10-23T13:06:56Z'},\n {'name': 'Zhou Zhou',\n  'email': 'zhou.eye8@gmail.com',\n  'date': '2018-10-22T14:30:40Z'},\n {'name': 'Zhou Zhou',\n  'email': 'zhou.eye8@gmail.com',\n  'date': '2018-10-22T03:05:28Z'},\n {'name': 'Zhou Zhou',\n  'email': 'zhou.eye8@gmail.com',\n  'date': '2018-10-22T03:03:56Z'},\n {'name': 'Zhou Zhou',\n  'email': 'zhou.eye8@gmail.com',\n  'date': '2018-10-22T02:56:58Z'},\n {'name': 'GitHub',\n  'email': 'noreply@github.com',\n  'date': '2018-10-21T07:25:34Z'},\n {'name': 'Zhou Zhou',\n  'email': 'zhou.eye8@gmail.com',\n  'date': '2018-10-21T07:17:15Z'},\n {'name': 'Zhou Zhou',\n  'email': 'zhou.eye8@gmail.com',\n  'date': '2018-10-21T07:12:27Z'},\n {'name': 'Zhou Zhou',\n  'email': 'zhou.eye8@gmail.com',\n  'date': '2018-10-21T07:06:34Z'},\n {'name': 'Zhou Zhou',\n  'email': 'zhou.eye8@gmail.com',\n  'date': '2018-10-18T21:34:18Z'},\n {'name': 'Zhou Zhou',\n  'email': 'zhou.eye8@gmail.com',\n  'date': '2018-10-18T21:29:52Z'},\n {'name': 'Zhou Zhou',\n  'email': 'zhou.eye8@gmail.com',\n  'date': '2018-10-10T18:40:06Z'},\n {'name': 'Zhou Zhou',\n  'email': 'zhou.eye8@gmail.com',\n  'date': '2018-10-10T18:39:46Z'},\n {'name': 'Tony Ojeda',\n  'email': 'tojeda@districtdatalabs.com',\n  'date': '2018-10-08T14:24:58Z'},\n {'name': 'GitHub',\n  'email': 'noreply@github.com',\n  'date': '2018-10-05T18:41:29Z'},\n {'name': 'Zhou Zhou',\n  'email': 'zhou.eye8@gmail.com',\n  'date': '2018-10-05T18:35:24Z'},\n {'name': 'Tony Ojeda',\n  'email': 'tojeda@districtdatalabs.com',\n  'date': '2018-10-04T17:19:42Z'},\n {'name': 'Tony Ojeda',\n  'email': 'tojeda@districtdatalabs.com',\n  'date': '2018-10-04T17:07:32Z'},\n {'name': 'Zhou Zhou',\n  'email': 'zhou.eye8@gmail.com',\n  'date': '2018-10-03T19:00:18Z'},\n {'name': 'Zhou Zhou',\n  'email': 'zhou.eye8@gmail.com',\n  'date': '2018-10-03T18:59:55Z'},\n {'name': 'Tony Ojeda',\n  'email': 'tojeda@districtdatalabs.com',\n  'date': '2018-10-03T17:02:55Z'},\n {'name': 'Tony Ojeda',\n  'email': 'tojeda@districtdatalabs.com',\n  'date': '2018-10-02T19:55:14Z'}]"
     },
     "execution_count": 16,
     "metadata": {},
     "output_type": "execute_result"
    }
   ],
   "source": [
    "\n",
    "c_list = []\n",
    "for cs in commit_list:\n",
    "    for c in cs:\n",
    "        c_list.append(c['committer'])\n",
    "c_list"
   ]
  },
  {
   "cell_type": "markdown",
   "metadata": {},
   "source": [
    "#### 2. Count how many commit objects are contained in the array."
   ]
  },
  {
   "cell_type": "code",
   "execution_count": 17,
   "metadata": {},
   "outputs": [
    {
     "data": {
      "text/plain": "59"
     },
     "execution_count": 17,
     "metadata": {},
     "output_type": "execute_result"
    }
   ],
   "source": [
    "# your code here\n",
    "len(c_list)"
   ]
  },
  {
   "cell_type": "markdown",
   "metadata": {},
   "source": [
    "## Challenge 3: Hidden Cold Joke\n",
    "\n",
    "Using Python, call Github API to find out the cold joke contained in the 24 secret files in the following repo:\n",
    "\n",
    "https://github.com/ironhack-datalabs/scavenger\n",
    "\n",
    "The filenames of the secret files contain .scavengerhunt and they are scattered in different directories of this repo. The secret files are named from .0001.scavengerhunt to .0024.scavengerhunt. They are scattered randomly throughout this repo. You need to search for these files by calling the Github API, not searching the local files on your computer.\n",
    "\n",
    "#### 1. Find the secret files."
   ]
  },
  {
   "cell_type": "code",
   "execution_count": 40,
   "metadata": {},
   "outputs": [],
   "source": [
    "# your code here\n",
    "#response = requests.get(commit_list[0][4]['url'].replace('/git',''), params=parameters, headers={'Authorization':token})\n",
    "contents = 'repos/ironhack-datalabs/scavenger/contents/'\n",
    "response = requests.get(base_url + contents, headers={'Authorization':token})\n",
    "result = response.json()\n"
   ]
  },
  {
   "cell_type": "code",
   "execution_count": 41,
   "metadata": {},
   "outputs": [
    {
     "data": {
      "text/plain": "[{'name': '.gitignore',\n  'path': '.gitignore',\n  'sha': 'e43b0f988953ae3a84b00331d0ccf5f7d51cb3cf',\n  'size': 10,\n  'url': 'https://api.github.com/repos/ironhack-datalabs/scavenger/contents/.gitignore?ref=master',\n  'html_url': 'https://github.com/ironhack-datalabs/scavenger/blob/master/.gitignore',\n  'git_url': 'https://api.github.com/repos/ironhack-datalabs/scavenger/git/blobs/e43b0f988953ae3a84b00331d0ccf5f7d51cb3cf',\n  'download_url': 'https://raw.githubusercontent.com/ironhack-datalabs/scavenger/master/.gitignore',\n  'type': 'file',\n  '_links': {'self': 'https://api.github.com/repos/ironhack-datalabs/scavenger/contents/.gitignore?ref=master',\n   'git': 'https://api.github.com/repos/ironhack-datalabs/scavenger/git/blobs/e43b0f988953ae3a84b00331d0ccf5f7d51cb3cf',\n   'html': 'https://github.com/ironhack-datalabs/scavenger/blob/master/.gitignore'}},\n {'name': '15024',\n  'path': '15024',\n  'sha': '2945e51c87ad5da893c954afcf092f06343bbb7d',\n  'size': 0,\n  'url': 'https://api.github.com/repos/ironhack-datalabs/scavenger/contents/15024?ref=master',\n  'html_url': 'https://github.com/ironhack-datalabs/scavenger/tree/master/15024',\n  'git_url': 'https://api.github.com/repos/ironhack-datalabs/scavenger/git/trees/2945e51c87ad5da893c954afcf092f06343bbb7d',\n  'download_url': None,\n  'type': 'dir',\n  '_links': {'self': 'https://api.github.com/repos/ironhack-datalabs/scavenger/contents/15024?ref=master',\n   'git': 'https://api.github.com/repos/ironhack-datalabs/scavenger/git/trees/2945e51c87ad5da893c954afcf092f06343bbb7d',\n   'html': 'https://github.com/ironhack-datalabs/scavenger/tree/master/15024'}},\n {'name': '15534',\n  'path': '15534',\n  'sha': '5af6f2a7287e4191f39e55693fc1e9c8918d1d3a',\n  'size': 0,\n  'url': 'https://api.github.com/repos/ironhack-datalabs/scavenger/contents/15534?ref=master',\n  'html_url': 'https://github.com/ironhack-datalabs/scavenger/tree/master/15534',\n  'git_url': 'https://api.github.com/repos/ironhack-datalabs/scavenger/git/trees/5af6f2a7287e4191f39e55693fc1e9c8918d1d3a',\n  'download_url': None,\n  'type': 'dir',\n  '_links': {'self': 'https://api.github.com/repos/ironhack-datalabs/scavenger/contents/15534?ref=master',\n   'git': 'https://api.github.com/repos/ironhack-datalabs/scavenger/git/trees/5af6f2a7287e4191f39e55693fc1e9c8918d1d3a',\n   'html': 'https://github.com/ironhack-datalabs/scavenger/tree/master/15534'}},\n {'name': '17020',\n  'path': '17020',\n  'sha': '9c49f920aa4d9433fa99a5824128f0e6b90ec5f2',\n  'size': 0,\n  'url': 'https://api.github.com/repos/ironhack-datalabs/scavenger/contents/17020?ref=master',\n  'html_url': 'https://github.com/ironhack-datalabs/scavenger/tree/master/17020',\n  'git_url': 'https://api.github.com/repos/ironhack-datalabs/scavenger/git/trees/9c49f920aa4d9433fa99a5824128f0e6b90ec5f2',\n  'download_url': None,\n  'type': 'dir',\n  '_links': {'self': 'https://api.github.com/repos/ironhack-datalabs/scavenger/contents/17020?ref=master',\n   'git': 'https://api.github.com/repos/ironhack-datalabs/scavenger/git/trees/9c49f920aa4d9433fa99a5824128f0e6b90ec5f2',\n   'html': 'https://github.com/ironhack-datalabs/scavenger/tree/master/17020'}},\n {'name': '30351',\n  'path': '30351',\n  'sha': 'c488d7f64088c852e22067d48fdc64ee3670f3ba',\n  'size': 0,\n  'url': 'https://api.github.com/repos/ironhack-datalabs/scavenger/contents/30351?ref=master',\n  'html_url': 'https://github.com/ironhack-datalabs/scavenger/tree/master/30351',\n  'git_url': 'https://api.github.com/repos/ironhack-datalabs/scavenger/git/trees/c488d7f64088c852e22067d48fdc64ee3670f3ba',\n  'download_url': None,\n  'type': 'dir',\n  '_links': {'self': 'https://api.github.com/repos/ironhack-datalabs/scavenger/contents/30351?ref=master',\n   'git': 'https://api.github.com/repos/ironhack-datalabs/scavenger/git/trees/c488d7f64088c852e22067d48fdc64ee3670f3ba',\n   'html': 'https://github.com/ironhack-datalabs/scavenger/tree/master/30351'}},\n {'name': '40303',\n  'path': '40303',\n  'sha': '30193d9cf62b07bcbb6366513ff03596861f2d29',\n  'size': 0,\n  'url': 'https://api.github.com/repos/ironhack-datalabs/scavenger/contents/40303?ref=master',\n  'html_url': 'https://github.com/ironhack-datalabs/scavenger/tree/master/40303',\n  'git_url': 'https://api.github.com/repos/ironhack-datalabs/scavenger/git/trees/30193d9cf62b07bcbb6366513ff03596861f2d29',\n  'download_url': None,\n  'type': 'dir',\n  '_links': {'self': 'https://api.github.com/repos/ironhack-datalabs/scavenger/contents/40303?ref=master',\n   'git': 'https://api.github.com/repos/ironhack-datalabs/scavenger/git/trees/30193d9cf62b07bcbb6366513ff03596861f2d29',\n   'html': 'https://github.com/ironhack-datalabs/scavenger/tree/master/40303'}},\n {'name': '44639',\n  'path': '44639',\n  'sha': '22fc3d5c2db80822c351edb2248f3491c8ebda86',\n  'size': 0,\n  'url': 'https://api.github.com/repos/ironhack-datalabs/scavenger/contents/44639?ref=master',\n  'html_url': 'https://github.com/ironhack-datalabs/scavenger/tree/master/44639',\n  'git_url': 'https://api.github.com/repos/ironhack-datalabs/scavenger/git/trees/22fc3d5c2db80822c351edb2248f3491c8ebda86',\n  'download_url': None,\n  'type': 'dir',\n  '_links': {'self': 'https://api.github.com/repos/ironhack-datalabs/scavenger/contents/44639?ref=master',\n   'git': 'https://api.github.com/repos/ironhack-datalabs/scavenger/git/trees/22fc3d5c2db80822c351edb2248f3491c8ebda86',\n   'html': 'https://github.com/ironhack-datalabs/scavenger/tree/master/44639'}},\n {'name': '45525',\n  'path': '45525',\n  'sha': '6a4a88cd9084110c8646c3cfd84dfe96b300a4a7',\n  'size': 0,\n  'url': 'https://api.github.com/repos/ironhack-datalabs/scavenger/contents/45525?ref=master',\n  'html_url': 'https://github.com/ironhack-datalabs/scavenger/tree/master/45525',\n  'git_url': 'https://api.github.com/repos/ironhack-datalabs/scavenger/git/trees/6a4a88cd9084110c8646c3cfd84dfe96b300a4a7',\n  'download_url': None,\n  'type': 'dir',\n  '_links': {'self': 'https://api.github.com/repos/ironhack-datalabs/scavenger/contents/45525?ref=master',\n   'git': 'https://api.github.com/repos/ironhack-datalabs/scavenger/git/trees/6a4a88cd9084110c8646c3cfd84dfe96b300a4a7',\n   'html': 'https://github.com/ironhack-datalabs/scavenger/tree/master/45525'}},\n {'name': '47222',\n  'path': '47222',\n  'sha': 'c7001604cdadc2fe7b82e0f6996690718cac6941',\n  'size': 0,\n  'url': 'https://api.github.com/repos/ironhack-datalabs/scavenger/contents/47222?ref=master',\n  'html_url': 'https://github.com/ironhack-datalabs/scavenger/tree/master/47222',\n  'git_url': 'https://api.github.com/repos/ironhack-datalabs/scavenger/git/trees/c7001604cdadc2fe7b82e0f6996690718cac6941',\n  'download_url': None,\n  'type': 'dir',\n  '_links': {'self': 'https://api.github.com/repos/ironhack-datalabs/scavenger/contents/47222?ref=master',\n   'git': 'https://api.github.com/repos/ironhack-datalabs/scavenger/git/trees/c7001604cdadc2fe7b82e0f6996690718cac6941',\n   'html': 'https://github.com/ironhack-datalabs/scavenger/tree/master/47222'}},\n {'name': '47830',\n  'path': '47830',\n  'sha': 'f84882ad7560fd2b8c6a0867bc707ce9009ef288',\n  'size': 0,\n  'url': 'https://api.github.com/repos/ironhack-datalabs/scavenger/contents/47830?ref=master',\n  'html_url': 'https://github.com/ironhack-datalabs/scavenger/tree/master/47830',\n  'git_url': 'https://api.github.com/repos/ironhack-datalabs/scavenger/git/trees/f84882ad7560fd2b8c6a0867bc707ce9009ef288',\n  'download_url': None,\n  'type': 'dir',\n  '_links': {'self': 'https://api.github.com/repos/ironhack-datalabs/scavenger/contents/47830?ref=master',\n   'git': 'https://api.github.com/repos/ironhack-datalabs/scavenger/git/trees/f84882ad7560fd2b8c6a0867bc707ce9009ef288',\n   'html': 'https://github.com/ironhack-datalabs/scavenger/tree/master/47830'}},\n {'name': '49418',\n  'path': '49418',\n  'sha': '46bc658c09589d9023246b00e848ce97d30d4989',\n  'size': 0,\n  'url': 'https://api.github.com/repos/ironhack-datalabs/scavenger/contents/49418?ref=master',\n  'html_url': 'https://github.com/ironhack-datalabs/scavenger/tree/master/49418',\n  'git_url': 'https://api.github.com/repos/ironhack-datalabs/scavenger/git/trees/46bc658c09589d9023246b00e848ce97d30d4989',\n  'download_url': None,\n  'type': 'dir',\n  '_links': {'self': 'https://api.github.com/repos/ironhack-datalabs/scavenger/contents/49418?ref=master',\n   'git': 'https://api.github.com/repos/ironhack-datalabs/scavenger/git/trees/46bc658c09589d9023246b00e848ce97d30d4989',\n   'html': 'https://github.com/ironhack-datalabs/scavenger/tree/master/49418'}},\n {'name': '50896',\n  'path': '50896',\n  'sha': 'e47a7a35a19f80694587330c57d94e28d3b4c054',\n  'size': 0,\n  'url': 'https://api.github.com/repos/ironhack-datalabs/scavenger/contents/50896?ref=master',\n  'html_url': 'https://github.com/ironhack-datalabs/scavenger/tree/master/50896',\n  'git_url': 'https://api.github.com/repos/ironhack-datalabs/scavenger/git/trees/e47a7a35a19f80694587330c57d94e28d3b4c054',\n  'download_url': None,\n  'type': 'dir',\n  '_links': {'self': 'https://api.github.com/repos/ironhack-datalabs/scavenger/contents/50896?ref=master',\n   'git': 'https://api.github.com/repos/ironhack-datalabs/scavenger/git/trees/e47a7a35a19f80694587330c57d94e28d3b4c054',\n   'html': 'https://github.com/ironhack-datalabs/scavenger/tree/master/50896'}},\n {'name': '55417',\n  'path': '55417',\n  'sha': '636fa555a2ee752759144a268fd860feb2b6fd2d',\n  'size': 0,\n  'url': 'https://api.github.com/repos/ironhack-datalabs/scavenger/contents/55417?ref=master',\n  'html_url': 'https://github.com/ironhack-datalabs/scavenger/tree/master/55417',\n  'git_url': 'https://api.github.com/repos/ironhack-datalabs/scavenger/git/trees/636fa555a2ee752759144a268fd860feb2b6fd2d',\n  'download_url': None,\n  'type': 'dir',\n  '_links': {'self': 'https://api.github.com/repos/ironhack-datalabs/scavenger/contents/55417?ref=master',\n   'git': 'https://api.github.com/repos/ironhack-datalabs/scavenger/git/trees/636fa555a2ee752759144a268fd860feb2b6fd2d',\n   'html': 'https://github.com/ironhack-datalabs/scavenger/tree/master/55417'}},\n {'name': '55685',\n  'path': '55685',\n  'sha': 'a00a8148a88287508a867616d7063786d3d5d4ff',\n  'size': 0,\n  'url': 'https://api.github.com/repos/ironhack-datalabs/scavenger/contents/55685?ref=master',\n  'html_url': 'https://github.com/ironhack-datalabs/scavenger/tree/master/55685',\n  'git_url': 'https://api.github.com/repos/ironhack-datalabs/scavenger/git/trees/a00a8148a88287508a867616d7063786d3d5d4ff',\n  'download_url': None,\n  'type': 'dir',\n  '_links': {'self': 'https://api.github.com/repos/ironhack-datalabs/scavenger/contents/55685?ref=master',\n   'git': 'https://api.github.com/repos/ironhack-datalabs/scavenger/git/trees/a00a8148a88287508a867616d7063786d3d5d4ff',\n   'html': 'https://github.com/ironhack-datalabs/scavenger/tree/master/55685'}},\n {'name': '60224',\n  'path': '60224',\n  'sha': '28d70fba98bfacfaa5e5544b2eff6b61c9e8f57b',\n  'size': 0,\n  'url': 'https://api.github.com/repos/ironhack-datalabs/scavenger/contents/60224?ref=master',\n  'html_url': 'https://github.com/ironhack-datalabs/scavenger/tree/master/60224',\n  'git_url': 'https://api.github.com/repos/ironhack-datalabs/scavenger/git/trees/28d70fba98bfacfaa5e5544b2eff6b61c9e8f57b',\n  'download_url': None,\n  'type': 'dir',\n  '_links': {'self': 'https://api.github.com/repos/ironhack-datalabs/scavenger/contents/60224?ref=master',\n   'git': 'https://api.github.com/repos/ironhack-datalabs/scavenger/git/trees/28d70fba98bfacfaa5e5544b2eff6b61c9e8f57b',\n   'html': 'https://github.com/ironhack-datalabs/scavenger/tree/master/60224'}},\n {'name': '64880',\n  'path': '64880',\n  'sha': '88b159d6f73378e6968bb35ccfd8e3ad0cc462d2',\n  'size': 0,\n  'url': 'https://api.github.com/repos/ironhack-datalabs/scavenger/contents/64880?ref=master',\n  'html_url': 'https://github.com/ironhack-datalabs/scavenger/tree/master/64880',\n  'git_url': 'https://api.github.com/repos/ironhack-datalabs/scavenger/git/trees/88b159d6f73378e6968bb35ccfd8e3ad0cc462d2',\n  'download_url': None,\n  'type': 'dir',\n  '_links': {'self': 'https://api.github.com/repos/ironhack-datalabs/scavenger/contents/64880?ref=master',\n   'git': 'https://api.github.com/repos/ironhack-datalabs/scavenger/git/trees/88b159d6f73378e6968bb35ccfd8e3ad0cc462d2',\n   'html': 'https://github.com/ironhack-datalabs/scavenger/tree/master/64880'}},\n {'name': '66032',\n  'path': '66032',\n  'sha': '0230fa6fa1ccf49ab976fbbfc9eb838094779785',\n  'size': 0,\n  'url': 'https://api.github.com/repos/ironhack-datalabs/scavenger/contents/66032?ref=master',\n  'html_url': 'https://github.com/ironhack-datalabs/scavenger/tree/master/66032',\n  'git_url': 'https://api.github.com/repos/ironhack-datalabs/scavenger/git/trees/0230fa6fa1ccf49ab976fbbfc9eb838094779785',\n  'download_url': None,\n  'type': 'dir',\n  '_links': {'self': 'https://api.github.com/repos/ironhack-datalabs/scavenger/contents/66032?ref=master',\n   'git': 'https://api.github.com/repos/ironhack-datalabs/scavenger/git/trees/0230fa6fa1ccf49ab976fbbfc9eb838094779785',\n   'html': 'https://github.com/ironhack-datalabs/scavenger/tree/master/66032'}},\n {'name': '68848',\n  'path': '68848',\n  'sha': 'ed2f90be6835e7e74c283aedba1942b788754d32',\n  'size': 0,\n  'url': 'https://api.github.com/repos/ironhack-datalabs/scavenger/contents/68848?ref=master',\n  'html_url': 'https://github.com/ironhack-datalabs/scavenger/tree/master/68848',\n  'git_url': 'https://api.github.com/repos/ironhack-datalabs/scavenger/git/trees/ed2f90be6835e7e74c283aedba1942b788754d32',\n  'download_url': None,\n  'type': 'dir',\n  '_links': {'self': 'https://api.github.com/repos/ironhack-datalabs/scavenger/contents/68848?ref=master',\n   'git': 'https://api.github.com/repos/ironhack-datalabs/scavenger/git/trees/ed2f90be6835e7e74c283aedba1942b788754d32',\n   'html': 'https://github.com/ironhack-datalabs/scavenger/tree/master/68848'}},\n {'name': '70751',\n  'path': '70751',\n  'sha': 'a5d9391003b67cecf3c336398ec38cfa75a689b7',\n  'size': 0,\n  'url': 'https://api.github.com/repos/ironhack-datalabs/scavenger/contents/70751?ref=master',\n  'html_url': 'https://github.com/ironhack-datalabs/scavenger/tree/master/70751',\n  'git_url': 'https://api.github.com/repos/ironhack-datalabs/scavenger/git/trees/a5d9391003b67cecf3c336398ec38cfa75a689b7',\n  'download_url': None,\n  'type': 'dir',\n  '_links': {'self': 'https://api.github.com/repos/ironhack-datalabs/scavenger/contents/70751?ref=master',\n   'git': 'https://api.github.com/repos/ironhack-datalabs/scavenger/git/trees/a5d9391003b67cecf3c336398ec38cfa75a689b7',\n   'html': 'https://github.com/ironhack-datalabs/scavenger/tree/master/70751'}},\n {'name': '70985',\n  'path': '70985',\n  'sha': 'd1a654c5811f52ec8a101652b0a04367644eab99',\n  'size': 0,\n  'url': 'https://api.github.com/repos/ironhack-datalabs/scavenger/contents/70985?ref=master',\n  'html_url': 'https://github.com/ironhack-datalabs/scavenger/tree/master/70985',\n  'git_url': 'https://api.github.com/repos/ironhack-datalabs/scavenger/git/trees/d1a654c5811f52ec8a101652b0a04367644eab99',\n  'download_url': None,\n  'type': 'dir',\n  '_links': {'self': 'https://api.github.com/repos/ironhack-datalabs/scavenger/contents/70985?ref=master',\n   'git': 'https://api.github.com/repos/ironhack-datalabs/scavenger/git/trees/d1a654c5811f52ec8a101652b0a04367644eab99',\n   'html': 'https://github.com/ironhack-datalabs/scavenger/tree/master/70985'}},\n {'name': '88596',\n  'path': '88596',\n  'sha': 'f294d2a0e55a4bab12625a7f709b44450a5e4648',\n  'size': 0,\n  'url': 'https://api.github.com/repos/ironhack-datalabs/scavenger/contents/88596?ref=master',\n  'html_url': 'https://github.com/ironhack-datalabs/scavenger/tree/master/88596',\n  'git_url': 'https://api.github.com/repos/ironhack-datalabs/scavenger/git/trees/f294d2a0e55a4bab12625a7f709b44450a5e4648',\n  'download_url': None,\n  'type': 'dir',\n  '_links': {'self': 'https://api.github.com/repos/ironhack-datalabs/scavenger/contents/88596?ref=master',\n   'git': 'https://api.github.com/repos/ironhack-datalabs/scavenger/git/trees/f294d2a0e55a4bab12625a7f709b44450a5e4648',\n   'html': 'https://github.com/ironhack-datalabs/scavenger/tree/master/88596'}},\n {'name': '89046',\n  'path': '89046',\n  'sha': '5f3ef5f14cf72bbe03a24b69777ba02f19a3adb5',\n  'size': 0,\n  'url': 'https://api.github.com/repos/ironhack-datalabs/scavenger/contents/89046?ref=master',\n  'html_url': 'https://github.com/ironhack-datalabs/scavenger/tree/master/89046',\n  'git_url': 'https://api.github.com/repos/ironhack-datalabs/scavenger/git/trees/5f3ef5f14cf72bbe03a24b69777ba02f19a3adb5',\n  'download_url': None,\n  'type': 'dir',\n  '_links': {'self': 'https://api.github.com/repos/ironhack-datalabs/scavenger/contents/89046?ref=master',\n   'git': 'https://api.github.com/repos/ironhack-datalabs/scavenger/git/trees/5f3ef5f14cf72bbe03a24b69777ba02f19a3adb5',\n   'html': 'https://github.com/ironhack-datalabs/scavenger/tree/master/89046'}},\n {'name': '89338',\n  'path': '89338',\n  'sha': '79c94a4032a927b2af52cc6da4ce27eb2abbf55e',\n  'size': 0,\n  'url': 'https://api.github.com/repos/ironhack-datalabs/scavenger/contents/89338?ref=master',\n  'html_url': 'https://github.com/ironhack-datalabs/scavenger/tree/master/89338',\n  'git_url': 'https://api.github.com/repos/ironhack-datalabs/scavenger/git/trees/79c94a4032a927b2af52cc6da4ce27eb2abbf55e',\n  'download_url': None,\n  'type': 'dir',\n  '_links': {'self': 'https://api.github.com/repos/ironhack-datalabs/scavenger/contents/89338?ref=master',\n   'git': 'https://api.github.com/repos/ironhack-datalabs/scavenger/git/trees/79c94a4032a927b2af52cc6da4ce27eb2abbf55e',\n   'html': 'https://github.com/ironhack-datalabs/scavenger/tree/master/89338'}},\n {'name': '91701',\n  'path': '91701',\n  'sha': '0ad19115f0b56c3cd10cb7e077140c201b527301',\n  'size': 0,\n  'url': 'https://api.github.com/repos/ironhack-datalabs/scavenger/contents/91701?ref=master',\n  'html_url': 'https://github.com/ironhack-datalabs/scavenger/tree/master/91701',\n  'git_url': 'https://api.github.com/repos/ironhack-datalabs/scavenger/git/trees/0ad19115f0b56c3cd10cb7e077140c201b527301',\n  'download_url': None,\n  'type': 'dir',\n  '_links': {'self': 'https://api.github.com/repos/ironhack-datalabs/scavenger/contents/91701?ref=master',\n   'git': 'https://api.github.com/repos/ironhack-datalabs/scavenger/git/trees/0ad19115f0b56c3cd10cb7e077140c201b527301',\n   'html': 'https://github.com/ironhack-datalabs/scavenger/tree/master/91701'}},\n {'name': '97881',\n  'path': '97881',\n  'sha': 'c369c43c17ec44cc3e66dd27f8e557f9d15d40f4',\n  'size': 0,\n  'url': 'https://api.github.com/repos/ironhack-datalabs/scavenger/contents/97881?ref=master',\n  'html_url': 'https://github.com/ironhack-datalabs/scavenger/tree/master/97881',\n  'git_url': 'https://api.github.com/repos/ironhack-datalabs/scavenger/git/trees/c369c43c17ec44cc3e66dd27f8e557f9d15d40f4',\n  'download_url': None,\n  'type': 'dir',\n  '_links': {'self': 'https://api.github.com/repos/ironhack-datalabs/scavenger/contents/97881?ref=master',\n   'git': 'https://api.github.com/repos/ironhack-datalabs/scavenger/git/trees/c369c43c17ec44cc3e66dd27f8e557f9d15d40f4',\n   'html': 'https://github.com/ironhack-datalabs/scavenger/tree/master/97881'}},\n {'name': '98750',\n  'path': '98750',\n  'sha': 'cdc23915e0a5179127458431986ba3750840a924',\n  'size': 0,\n  'url': 'https://api.github.com/repos/ironhack-datalabs/scavenger/contents/98750?ref=master',\n  'html_url': 'https://github.com/ironhack-datalabs/scavenger/tree/master/98750',\n  'git_url': 'https://api.github.com/repos/ironhack-datalabs/scavenger/git/trees/cdc23915e0a5179127458431986ba3750840a924',\n  'download_url': None,\n  'type': 'dir',\n  '_links': {'self': 'https://api.github.com/repos/ironhack-datalabs/scavenger/contents/98750?ref=master',\n   'git': 'https://api.github.com/repos/ironhack-datalabs/scavenger/git/trees/cdc23915e0a5179127458431986ba3750840a924',\n   'html': 'https://github.com/ironhack-datalabs/scavenger/tree/master/98750'}}]"
     },
     "execution_count": 41,
     "metadata": {},
     "output_type": "execute_result"
    }
   ],
   "source": [
    "#response = requests.get(base_url + contents + '47222', headers={'Authorization':token})\n",
    "#result = response.json()\n",
    "result"
   ]
  },
  {
   "cell_type": "code",
   "execution_count": 47,
   "metadata": {},
   "outputs": [
    {
     "data": {
      "text/plain": "['15024/.0006.scavengerhunt',\n '15534/.0008.scavengerhunt',\n '15534/.0012.scavengerhunt',\n '17020/.0007.scavengerhunt',\n '30351/.0021.scavengerhunt',\n '40303/.0022.scavengerhunt',\n '44639/.0005.scavengerhunt',\n '45525/.0018.scavengerhunt',\n '47222/.0016.scavengerhunt',\n '47222/.0024.scavengerhunt',\n '47830/.0010.scavengerhunt',\n '49418/.0014.scavengerhunt',\n '50896/.0011.scavengerhunt',\n '55417/.0023.scavengerhunt',\n '55685/.0020.scavengerhunt',\n '60224/.0003.scavengerhunt',\n '68848/.0004.scavengerhunt',\n '70751/.0019.scavengerhunt',\n '70985/.0017.scavengerhunt',\n '88596/.0002.scavengerhunt',\n '89338/.0013.scavengerhunt',\n '91701/.0015.scavengerhunt',\n '97881/.0009.scavengerhunt',\n '98750/.0001.scavengerhunt']"
     },
     "execution_count": 47,
     "metadata": {},
     "output_type": "execute_result"
    }
   ],
   "source": [
    "\"\"\"result[1]['path']\n",
    "response_f = requests.get(base_url + contents + result[1]['path'], headers={'Authorization':token})\n",
    "response_f.json()\"\"\"\n",
    "content_lst = []\n",
    "for content in result:\n",
    "    if '.gitignore' not in content['path']:\n",
    "        resp = requests.get(base_url + contents + content['path'], headers={'Authorization':token}).json()\n",
    "        for elem in resp:\n",
    "            if 'scavenger' in elem['path']:\n",
    "                content_lst.append(elem['path'])\n",
    "\n",
    "content_lst"
   ]
  },
  {
   "cell_type": "markdown",
   "metadata": {},
   "source": [
    "#### 2.  Sort the filenames ascendingly."
   ]
  },
  {
   "cell_type": "code",
   "execution_count": 48,
   "metadata": {},
   "outputs": [
    {
     "data": {
      "text/plain": "['98750/.0001.scavengerhunt',\n '88596/.0002.scavengerhunt',\n '60224/.0003.scavengerhunt',\n '68848/.0004.scavengerhunt',\n '44639/.0005.scavengerhunt',\n '15024/.0006.scavengerhunt',\n '17020/.0007.scavengerhunt',\n '15534/.0008.scavengerhunt',\n '97881/.0009.scavengerhunt',\n '47830/.0010.scavengerhunt',\n '50896/.0011.scavengerhunt',\n '15534/.0012.scavengerhunt',\n '89338/.0013.scavengerhunt',\n '49418/.0014.scavengerhunt',\n '91701/.0015.scavengerhunt',\n '47222/.0016.scavengerhunt',\n '70985/.0017.scavengerhunt',\n '45525/.0018.scavengerhunt',\n '70751/.0019.scavengerhunt',\n '55685/.0020.scavengerhunt',\n '30351/.0021.scavengerhunt',\n '40303/.0022.scavengerhunt',\n '55417/.0023.scavengerhunt',\n '47222/.0024.scavengerhunt']"
     },
     "execution_count": 48,
     "metadata": {},
     "output_type": "execute_result"
    }
   ],
   "source": [
    "# your code here\n",
    "import re\n",
    "\n",
    "sorted_lst = []\n",
    "for i in range(26):\n",
    "    for j in content_lst:\n",
    "        pattern = '0' + str(i) + '\\.scavengerhunt'\n",
    "        if bool(re.search(pattern, j)):\n",
    "            sorted_lst.append(j)\n",
    "            break\n",
    "sorted_lst"
   ]
  },
  {
   "cell_type": "markdown",
   "metadata": {},
   "source": [
    "#### 3. Read the content of each secret files into an array of strings.\n",
    "Since the response is encoded, you will need to send the following information in the header of your request:\n",
    "````python\n",
    "headers = {'Accept': 'application/vnd.github.v3.raw'}\n",
    "````"
   ]
  },
  {
   "cell_type": "code",
   "execution_count": 50,
   "metadata": {},
   "outputs": [],
   "source": [
    "# your code here\n",
    "out = ''\n",
    "for c in sorted_lst:\n",
    "    resp = requests.get(base_url + contents + c, headers={'Authorization':token,'Accept': 'application/vnd.github.v3.raw'})\n",
    "    out = out + resp.text"
   ]
  },
  {
   "cell_type": "markdown",
   "metadata": {},
   "source": [
    "#### 4. Concatenate the strings in the array separating each two with a whitespace."
   ]
  },
  {
   "cell_type": "code",
   "execution_count": 61,
   "metadata": {},
   "outputs": [],
   "source": [
    "# your code here\n",
    "out = out.replace('\\n', ' ').strip()"
   ]
  },
  {
   "cell_type": "markdown",
   "metadata": {},
   "source": [
    "#### 5. Print out the joke."
   ]
  },
  {
   "cell_type": "code",
   "execution_count": 62,
   "metadata": {},
   "outputs": [
    {
     "data": {
      "text/plain": "'In data science, 80 percent of time spent is preparing data, 20 percent of time is spent complaining about the need to prepare data.'"
     },
     "execution_count": 62,
     "metadata": {},
     "output_type": "execute_result"
    }
   ],
   "source": [
    "# your code here\n",
    "out"
   ]
  }
 ],
 "metadata": {
  "kernelspec": {
   "display_name": "Python 3.7.6 64-bit",
   "language": "python",
   "name": "python37664bite61034f5ef0c466e91726dec7b83c0f7"
  },
  "language_info": {
   "codemirror_mode": {
    "name": "ipython",
    "version": 3
   },
   "file_extension": ".py",
   "mimetype": "text/x-python",
   "name": "python",
   "nbconvert_exporter": "python",
   "pygments_lexer": "ipython3",
   "version": "3.7.6-final"
  }
 },
 "nbformat": 4,
 "nbformat_minor": 2
}