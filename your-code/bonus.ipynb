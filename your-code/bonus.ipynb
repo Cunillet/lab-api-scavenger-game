{
 "cells": [
  {
   "cell_type": "markdown",
   "metadata": {},
   "source": [
    "# Additional Challenge for the Nerds"
   ]
  },
  {
   "cell_type": "markdown",
   "metadata": {},
   "source": [
    "#### Create a new file called test.txt.\n",
    "\n",
    "* Create a new repository.\n",
    "* Call the API endpoint to create a new file in the new repository.\n",
    "\n",
    "Include the command you used in the terminal to call the API endpoint and create the file:"
   ]
  },
  {
   "cell_type": "code",
   "execution_count": 19,
   "metadata": {},
   "outputs": [
    {
     "name": "stdout",
     "output_type": "stream",
     "text": "https://api.github.com/repos/Cunillet/lab-api-scavenger-game/contents/test.txt\n<Response [201]>\n"
    }
   ],
   "source": [
    "# your command here\n",
    "import base64\n",
    "import requests\n",
    "\n",
    "with open('../token/token.txt') as f:\n",
    "    token = 'token ' + f.readline()\n",
    "base_url = 'https://api.github.com/'\n",
    "new_file_path = 'repos/Cunillet/lab-api-scavenger-game/contents/test.txt'\n",
    "p = {\n",
    "    'message':'add test file',\n",
    "    'content':str(base64.b64encode('test test'.encode('utf-8')), 'utf-8')\n",
    "}\n",
    "print(base_url + new_file_path)\n",
    "response = requests.put(base_url + new_file_path, data=json.dumps(p), headers={'Authorization':token})\n",
    "if response.status_code == 200:\n",
    "    result = response.json()\n",
    "print(response)"
   ]
  },
  {
   "cell_type": "code",
   "execution_count": 20,
   "metadata": {},
   "outputs": [
    {
     "data": {
      "text/plain": "'{\"content\":{\"name\":\"test.txt\",\"path\":\"test.txt\",\"sha\":\"4be3c45084e3b954a7e43fab4f3d2f3660308ab4\",\"size\":9,\"url\":\"https://api.github.com/repos/Cunillet/lab-api-scavenger-game/contents/test.txt?ref=master\",\"html_url\":\"https://github.com/Cunillet/lab-api-scavenger-game/blob/master/test.txt\",\"git_url\":\"https://api.github.com/repos/Cunillet/lab-api-scavenger-game/git/blobs/4be3c45084e3b954a7e43fab4f3d2f3660308ab4\",\"download_url\":\"https://raw.githubusercontent.com/Cunillet/lab-api-scavenger-game/master/test.txt\",\"type\":\"file\",\"_links\":{\"self\":\"https://api.github.com/repos/Cunillet/lab-api-scavenger-game/contents/test.txt?ref=master\",\"git\":\"https://api.github.com/repos/Cunillet/lab-api-scavenger-game/git/blobs/4be3c45084e3b954a7e43fab4f3d2f3660308ab4\",\"html\":\"https://github.com/Cunillet/lab-api-scavenger-game/blob/master/test.txt\"}},\"commit\":{\"sha\":\"3e35ce0f6dfdce3b87881b3f7a5b587b8a0b4de5\",\"node_id\":\"MDY6Q29tbWl0MjM3MDA4MzM5OjNlMzVjZTBmNmRmZGNlM2I4Nzg4MWIzZjdhNWI1ODdiOGEwYjRkZTU=\",\"url\":\"https://api.github.com/repos/Cunillet/lab-api-scavenger-game/git/commits/3e35ce0f6dfdce3b87881b3f7a5b587b8a0b4de5\",\"html_url\":\"https://github.com/Cunillet/lab-api-scavenger-game/commit/3e35ce0f6dfdce3b87881b3f7a5b587b8a0b4de5\",\"author\":{\"name\":\"Cunillet\",\"email\":\"50911652+Cunillet@users.noreply.github.com\",\"date\":\"2020-01-31T13:34:52Z\"},\"committer\":{\"name\":\"Cunillet\",\"email\":\"50911652+Cunillet@users.noreply.github.com\",\"date\":\"2020-01-31T13:34:52Z\"},\"tree\":{\"sha\":\"04806b3353f9c27fc273b0cf764541caba8913bd\",\"url\":\"https://api.github.com/repos/Cunillet/lab-api-scavenger-game/git/trees/04806b3353f9c27fc273b0cf764541caba8913bd\"},\"message\":\"add test file\",\"parents\":[{\"sha\":\"3c721475fb9911223076b4ca2ad52ff4c9093f66\",\"url\":\"https://api.github.com/repos/Cunillet/lab-api-scavenger-game/git/commits/3c721475fb9911223076b4ca2ad52ff4c9093f66\",\"html_url\":\"https://github.com/Cunillet/lab-api-scavenger-game/commit/3c721475fb9911223076b4ca2ad52ff4c9093f66\"}],\"verification\":{\"verified\":false,\"reason\":\"unsigned\",\"signature\":null,\"payload\":null}}}'"
     },
     "execution_count": 20,
     "metadata": {},
     "output_type": "execute_result"
    }
   ],
   "source": [
    "response.text"
   ]
  }
 ],
 "metadata": {
  "kernelspec": {
   "display_name": "Python 3.7.6 64-bit",
   "language": "python",
   "name": "python37664bite61034f5ef0c466e91726dec7b83c0f7"
  },
  "language_info": {
   "codemirror_mode": {
    "name": "ipython",
    "version": 3
   },
   "file_extension": ".py",
   "mimetype": "text/x-python",
   "name": "python",
   "nbconvert_exporter": "python",
   "pygments_lexer": "ipython3",
   "version": "3.7.6-final"
  }
 },
 "nbformat": 4,
 "nbformat_minor": 2
}